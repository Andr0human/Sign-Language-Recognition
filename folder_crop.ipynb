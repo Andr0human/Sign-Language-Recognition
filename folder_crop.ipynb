{
 "cells": [
  {
   "cell_type": "code",
   "execution_count": 2,
   "metadata": {},
   "outputs": [
    {
     "name": "stdout",
     "output_type": "stream",
     "text": [
      "C:\\Users\\subha/Downloads/archive/ASL_Dataset/Train/A/\n",
      "Deleted 4996 images. The folder now contains 1000 images.\n"
     ]
    }
   ],
   "source": [
    "import os\n",
    "import random\n",
    "\n",
    "# Set the folder name where the images are located\n",
    "folder_name = 'archive/ASL_Dataset/Train/A/'\n",
    "\n",
    "# Set the path to the Downloads folder\n",
    "downloads_path = os.path.expanduser(\"~/Downloads/\")\n",
    "\n",
    "# Set the folder path where the images are located\n",
    "folder_path = downloads_path + folder_name\n",
    "\n",
    "print(folder_path)\n",
    "\n",
    "# Set the desired number of images to keep\n",
    "num_images_to_keep = 1000\n",
    "\n",
    "# Get the list of all image files in the folder\n",
    "image_files = [f for f in os.listdir(folder_path) if os.path.isfile(os.path.join(folder_path, f))]\n",
    "\n",
    "# Check if the number of images is already less than or equal to the desired number\n",
    "if len(image_files) <= num_images_to_keep:\n",
    "    print(\"The folder already contains {} or fewer images. No deletion required.\".format(num_images_to_keep))\n",
    "else:\n",
    "    # Calculate the number of images to delete\n",
    "    num_images_to_delete = len(image_files) - num_images_to_keep\n",
    "\n",
    "    # Randomly select images to delete\n",
    "    images_to_delete = random.sample(image_files, num_images_to_delete)\n",
    "\n",
    "    # Delete the selected images\n",
    "    for image in images_to_delete:\n",
    "        image_path = os.path.join(folder_path, image)\n",
    "        os.remove(image_path)\n",
    "\n",
    "    print(\"Deleted {} images. The folder now contains {} images.\".format(num_images_to_delete, num_images_to_keep))\n"
   ]
  }
 ],
 "metadata": {
  "kernelspec": {
   "display_name": "Python 3",
   "language": "python",
   "name": "python3"
  },
  "language_info": {
   "codemirror_mode": {
    "name": "ipython",
    "version": 3
   },
   "file_extension": ".py",
   "mimetype": "text/x-python",
   "name": "python",
   "nbconvert_exporter": "python",
   "pygments_lexer": "ipython3",
   "version": "3.10.0"
  },
  "orig_nbformat": 4
 },
 "nbformat": 4,
 "nbformat_minor": 2
}
