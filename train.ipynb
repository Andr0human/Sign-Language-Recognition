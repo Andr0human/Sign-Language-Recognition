{
 "cells": [
  {
   "cell_type": "markdown",
   "metadata": {},
   "source": [
    "# File for training sign language model.\n",
    "# Use pickle."
   ]
  },
  {
   "cell_type": "code",
   "execution_count": null,
   "metadata": {},
   "outputs": [],
   "source": [
    "import numpy as np\n",
    "import tensorflow as tf\n",
    "from keras.models import Sequential\n",
    "from keras.layers import Dense\n",
    "from keras.activations import linear, relu, sigmoid\n",
    "\n",
    "import matplotlib.pyplot as plt\n",
    "from data import *\n"
   ]
  },
  {
   "cell_type": "code",
   "execution_count": null,
   "metadata": {},
   "outputs": [],
   "source": [
    "# Load Dataset\n",
    "\n",
    "# For actual model\n",
    "# DATASET_PATH = 'Dataset/Indian/'\n",
    "\n",
    "# For testing purpose\n",
    "DATASET_PATH = 'Miniset'\n",
    "\n",
    "images, labels = load_data(DATASET_PATH)\n",
    "\n",
    "print ('The shape of Images is: ' + str(images.shape))\n",
    "print ('The shape of Labels is: ' + str(labels.shape))\n",
    "\n",
    "show_random_dataset(images, labels)\n"
   ]
  },
  {
   "cell_type": "code",
   "execution_count": null,
   "metadata": {},
   "outputs": [],
   "source": [
    "\n",
    "# Set the dimension of images from (n, 64, 64) to (n, 64 * 64)\n",
    "# For more efficient computation\n",
    "images   = unroll_matrix(images)\n",
    "\n",
    "# Encode the labels\n",
    "# Labels  = ['0', '1', ... , '9', 'A', 'B', .... ,'Y', 'Z']\n",
    "# Encoded = [ 0,   1, ....,   9,   10,  11, ....,  34,  35]\n",
    "y_labels = encode_labels(labels)\n",
    "\n",
    "print(\"New shape for images = \", images.shape)\n",
    "\n"
   ]
  },
  {
   "cell_type": "code",
   "execution_count": null,
   "metadata": {},
   "outputs": [],
   "source": [
    "# Setting up the model parameters\n",
    "\n",
    "\n",
    "tf.random.set_seed(1234) # for consistent results\n",
    "\n",
    "model = Sequential(\n",
    "    [\n",
    "        tf.keras.Input(shape=(4096, )),  # To be adjusted for inputs\n",
    "        Dense(60, activation='relu'),\n",
    "        Dense(45, activation='relu'),\n",
    "        Dense(36, activation='linear')\n",
    "\n",
    "    ], name = \"sign_recognition_model\" \n",
    ")\n",
    "\n",
    "\n",
    "model.summary()\n"
   ]
  },
  {
   "cell_type": "code",
   "execution_count": null,
   "metadata": {},
   "outputs": [],
   "source": [
    "# Compiling and training the model\n",
    "\n",
    "model.compile(\n",
    "    loss=tf.keras.losses.SparseCategoricalCrossentropy(from_logits=True),\n",
    "    optimizer=tf.keras.optimizers.Adam(learning_rate=0.001),\n",
    ")\n",
    "\n",
    "history = model.fit(\n",
    "    images, y_labels,\n",
    "    epochs=10\n",
    ")\n",
    "\n",
    "model.save('isl_model.h5')"
   ]
  },
  {
   "cell_type": "code",
   "execution_count": null,
   "metadata": {},
   "outputs": [],
   "source": [
    "import warnings\n",
    "warnings.simplefilter(action='ignore', category=FutureWarning)\n",
    "# You do not need to modify anything in this cell\n",
    "\n",
    "m, n = images.shape\n",
    "\n",
    "fig, axes = plt.subplots(5, 5, figsize=(10,10))\n",
    "fig.tight_layout(pad=0.13,rect=[0, 0.03, 1, 0.91]) #[left, bottom, right, top]\n",
    "\n",
    "for i,ax in enumerate(axes.flat):\n",
    "    # Select random indices\n",
    "    random_index = np.random.randint(m)\n",
    "\n",
    "    # Select rows corresponding to the random indices and\n",
    "    # reshape the image\n",
    "    X_random_reshaped = images[random_index].reshape(64, 64)\n",
    "    \n",
    "    # Display the image\n",
    "    ax.imshow(X_random_reshaped, cmap='gray')\n",
    "    \n",
    "    # Predict using the Neural Network\n",
    "    prediction = model.predict(images[random_index].reshape(1,4096))\n",
    "    prediction_p = tf.nn.softmax(prediction)\n",
    "    yhat = np.argmax(prediction_p)\n",
    "\n",
    "    # Display the label above the image\n",
    "    ax.set_title(f\"{labels[random_index]},{yhat}\",fontsize=10)\n",
    "    ax.set_axis_off()\n",
    "fig.suptitle(\"Label, yhat\", fontsize=14)\n",
    "plt.show()"
   ]
  }
 ],
 "metadata": {
  "kernelspec": {
   "display_name": "Python 3.11.0 64-bit",
   "language": "python",
   "name": "python3"
  },
  "language_info": {
   "codemirror_mode": {
    "name": "ipython",
    "version": 3
   },
   "file_extension": ".py",
   "mimetype": "text/x-python",
   "name": "python",
   "nbconvert_exporter": "python",
   "pygments_lexer": "ipython3",
   "version": "3.10.7"
  },
  "orig_nbformat": 4,
  "vscode": {
   "interpreter": {
    "hash": "fa6e12f5e5ac0ef8d4fc5ed68460255f96e78ccc6ae90f782d559be177fce646"
   }
  }
 },
 "nbformat": 4,
 "nbformat_minor": 2
}
