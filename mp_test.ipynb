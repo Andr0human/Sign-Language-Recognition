{
 "cells": [
  {
   "attachments": {},
   "cell_type": "markdown",
   "metadata": {},
   "source": [
    "# Test for mediapipe lib."
   ]
  },
  {
   "cell_type": "code",
   "execution_count": 1,
   "metadata": {},
   "outputs": [],
   "source": [
    "# Importing libs\n",
    "\n",
    "import time\n",
    "import numpy as np\n",
    "import tensorflow as tf\n",
    "from keras.models import Sequential\n",
    "from keras.layers import Dense\n",
    "from keras.activations import linear, relu, sigmoid\n",
    "\n",
    "import matplotlib.pyplot as plt\n",
    "from data import *\n",
    "from cvzone.HandTrackingModule import HandDetector"
   ]
  },
  {
   "cell_type": "code",
   "execution_count": 9,
   "metadata": {},
   "outputs": [
    {
     "name": "stdout",
     "output_type": "stream",
     "text": [
      "Folders_Found =  ['A']\n",
      "(1200, 128, 128, 3)\n"
     ]
    }
   ],
   "source": [
    "# Loading data\n",
    "\n",
    "images, labels = load_data('./Dataset/Indian/', grayscale=False, shape=(128, 128), labels='A')\n",
    "\n",
    "print(images.shape)\n",
    "\n",
    "# show_random_dataset(images, labels)"
   ]
  },
  {
   "cell_type": "code",
   "execution_count": 10,
   "metadata": {},
   "outputs": [
    {
     "name": "stdout",
     "output_type": "stream",
     "text": [
      "Frames to process : 120\n",
      "Time taken : 4.363678932189941 sec.\n",
      "Speed : 27.499731732045007 frames/s.\n"
     ]
    }
   ],
   "source": [
    "detector = HandDetector(detectionCon=0.8, maxHands=2)\n",
    "\n",
    "# Always fresh load data before running this test\n",
    "start = time.time()\n",
    "\n",
    "m = images.shape[0] // 10\n",
    "\n",
    "\n",
    "for i in range(m):\n",
    "    hands = detector.findHands(images[i], draw=False)\n",
    "\n",
    "end = time.time()\n",
    "\n",
    "print(f'Frames to process : {m}')\n",
    "print(f'Time taken : {end - start} sec.')\n",
    "print(f'Speed : {m / (end - start)} frames/s.')\n",
    "\n"
   ]
  }
 ],
 "metadata": {
  "kernelspec": {
   "display_name": "Python 3",
   "language": "python",
   "name": "python3"
  },
  "language_info": {
   "codemirror_mode": {
    "name": "ipython",
    "version": 3
   },
   "file_extension": ".py",
   "mimetype": "text/x-python",
   "name": "python",
   "nbconvert_exporter": "python",
   "pygments_lexer": "ipython3",
   "version": "3.10.0"
  },
  "orig_nbformat": 4
 },
 "nbformat": 4,
 "nbformat_minor": 2
}
