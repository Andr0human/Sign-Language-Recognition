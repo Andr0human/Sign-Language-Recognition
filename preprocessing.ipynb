{
 "cells": [
  {
   "cell_type": "markdown",
   "metadata": {},
   "source": [
    "# File for preprocessing images before using them for model training."
   ]
  },
  {
   "cell_type": "code",
   "execution_count": null,
   "metadata": {},
   "outputs": [],
   "source": [
    "###\n",
    "# Hand Recognition\n",
    "# image preprocessing\n",
    "#   Image Resizing\n",
    "#   Segmentation\n",
    "#       BGR to HSV\n",
    "#       Masked\n",
    "#       Canny Edge\n",
    "#   Feature Extraction\n",
    "###\n",
    "\n",
    "\n",
    "###\n",
    "# System Design\n",
    "# Dataset\n",
    "# Libraries used\n"
   ]
  }
 ],
 "metadata": {
  "kernelspec": {
   "display_name": "Python 3.9.13 ('base')",
   "language": "python",
   "name": "python3"
  },
  "language_info": {
   "name": "python",
   "version": "3.9.13"
  },
  "orig_nbformat": 4,
  "vscode": {
   "interpreter": {
    "hash": "2669db33fe49d209d340d78c0a81a3bc38fc609ba06a227c0dcf99836b88eac2"
   }
  }
 },
 "nbformat": 4,
 "nbformat_minor": 2
}
