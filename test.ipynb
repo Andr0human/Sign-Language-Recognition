{
 "cells": [
  {
   "cell_type": "markdown",
   "metadata": {},
   "source": [
    "# File for testing saved models."
   ]
  },
  {
   "cell_type": "code",
   "execution_count": null,
   "metadata": {},
   "outputs": [],
   "source": [
    "# Importing Libs\n",
    "\n",
    "import cv2\n",
    "import numpy as np\n",
    "import tensorflow as tf\n",
    "from keras.models import load_model\n",
    "from preprocess import *\n"
   ]
  },
  {
   "cell_type": "code",
   "execution_count": null,
   "metadata": {},
   "outputs": [],
   "source": [
    "# Load the Indian Sign Language model\n",
    "model = load_model('isl_model.h5')\n",
    "\n",
    "\n",
    "def sign_from_prediction_value(value):\n",
    "    if value < 10:\n",
    "        return chr(value + 48)\n",
    "    return chr(value + 55)\n"
   ]
  },
  {
   "cell_type": "code",
   "execution_count": null,
   "metadata": {},
   "outputs": [],
   "source": [
    "# PreProcess the image before classification\n",
    "def preprocess_image(frame):\n",
    "\n",
    "    # Convert the image to grayscale\n",
    "    gray = cv2.cvtColor(frame, cv2.COLOR_BGR2GRAY)\n",
    "\n",
    "    # Resize the image to (64, 64) and convert it to RGB format\n",
    "    resized = cv2.resize(gray, (64, 64))\n",
    "\n",
    "    # frame = resized.reshape(1, 4096)\n",
    "    return resized"
   ]
  },
  {
   "cell_type": "code",
   "execution_count": null,
   "metadata": {},
   "outputs": [],
   "source": [
    "# Function to predict the sign from webcam input\n",
    "def predict_sign():\n",
    "    # Open the webcam\n",
    "    cap = cv2.VideoCapture(0)\n",
    "\n",
    "    while True:\n",
    "        # Read the frame from the webcam\n",
    "        ret, frame = cap.read()\n",
    "\n",
    "        # preprocessing the frame before classification\n",
    "        preprocessed_frame = apply_contour_preprocessing(frame)\n",
    "\n",
    "        # Make the prediction using the model\n",
    "        prediction = model.predict(preprocessed_frame.reshape(1, 4096))\n",
    "        prediction_p = tf.nn.softmax(prediction)\n",
    "        yhat = np.argmax(prediction_p)\n",
    "\n",
    "        # Get the predicted sign label\n",
    "        sign = sign_from_prediction_value(yhat)\n",
    "\n",
    "        # Display the predicted sign label on the screen\n",
    "        cv2.putText(frame, sign, (50, 50), cv2.FONT_HERSHEY_SIMPLEX, 1, (0, 255, 0), 2)\n",
    "\n",
    "        # Display the frame\n",
    "        cv2.imshow('Indian Sign Language Recognition', frame)\n",
    "\n",
    "        # Stop the program when the 'q' key is pressed\n",
    "        if cv2.waitKey(1) & 0xFF == ord('q'):\n",
    "            break\n",
    "\n",
    "    # Release the webcam and close all windows\n",
    "    cap.release()\n",
    "    cv2.destroyAllWindows()\n",
    "\n",
    "# Call the function to start predicting signs from webcam input\n",
    "predict_sign()"
   ]
  }
 ],
 "metadata": {
  "kernelspec": {
   "display_name": "Python 3.11.0 64-bit",
   "language": "python",
   "name": "python3"
  },
  "language_info": {
   "codemirror_mode": {
    "name": "ipython",
    "version": 3
   },
   "file_extension": ".py",
   "mimetype": "text/x-python",
   "name": "python",
   "nbconvert_exporter": "python",
   "pygments_lexer": "ipython3",
   "version": "3.10.7"
  },
  "orig_nbformat": 4,
  "vscode": {
   "interpreter": {
    "hash": "fa6e12f5e5ac0ef8d4fc5ed68460255f96e78ccc6ae90f782d559be177fce646"
   }
  }
 },
 "nbformat": 4,
 "nbformat_minor": 2
}
