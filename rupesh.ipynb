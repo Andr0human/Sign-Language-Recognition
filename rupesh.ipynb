{
 "cells": [
  {
   "cell_type": "code",
   "execution_count": 2,
   "metadata": {},
   "outputs": [],
   "source": [
    "import cv2\n",
    "import os\n",
    "import csv\n",
    "from cvzone.HandTrackingModule import HandDetector\n",
    "\n",
    "# Function to generate hand landmark coordinates for an image\n",
    "def image_coordinate_generator(img_path):\n",
    "    img = cv2.imread(img_path)\n",
    "\n",
    "    # Initialize the hand detector\n",
    "    detector = HandDetector(detectionCon=0.4, maxHands=1)\n",
    "\n",
    "    # Detect the hand in the image\n",
    "    hands, _ = detector.findHands(img)\n",
    "\n",
    "    # Extract the landmarks for the detected hand\n",
    "    hand_data = []\n",
    "    if hands:\n",
    "        landmarks = hands[0]\n",
    "        hand_data.append(landmarks)\n",
    "\n",
    "    # Return the hand landmark data\n",
    "    return hand_data\n",
    "\n",
    "# Function to generate hand landmark data for all images in a folder and its subfolders\n",
    "def generate_hand_landmark_data(root_folder):\n",
    "    try:\n",
    "        with open(\"signLanguage.csv\", mode=\"w\", newline='') as csv_file:\n",
    "            writer = csv.writer(csv_file)\n",
    "            writer.writerow([\"label\", \"handLandmarks\"])\n",
    "            for label in os.listdir(root_folder):\n",
    "                label_folder = os.path.join(root_folder, label)\n",
    "                if os.path.isdir(label_folder):\n",
    "                    for file_name in os.listdir(label_folder):\n",
    "                        try:\n",
    "                            file_path = os.path.join(label_folder, file_name)\n",
    "                            hand_data = image_coordinate_generator(file_path)\n",
    "                            writer.writerow([label, hand_data])\n",
    "                        except:\n",
    "                            print(f\"Error processing file {file_path}. Skipping...\")\n",
    "\n",
    "    except Exception as e:\n",
    "        print(f\"Error generating hand landmark data: {e}\")\n",
    "\n",
    "# Call the generate_hand_landmark_data function with the root folder path as argument\n",
    "generate_hand_landmark_data(\"./Miniset\")"
   ]
  }
 ],
 "metadata": {
  "kernelspec": {
   "display_name": "Python 3",
   "language": "python",
   "name": "python3"
  },
  "language_info": {
   "codemirror_mode": {
    "name": "ipython",
    "version": 3
   },
   "file_extension": ".py",
   "mimetype": "text/x-python",
   "name": "python",
   "nbconvert_exporter": "python",
   "pygments_lexer": "ipython3",
   "version": "3.10.0"
  },
  "orig_nbformat": 4
 },
 "nbformat": 4,
 "nbformat_minor": 2
}
